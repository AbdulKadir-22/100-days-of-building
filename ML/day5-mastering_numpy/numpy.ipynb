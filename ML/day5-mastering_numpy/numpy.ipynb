{
 "cells": [
  {
   "cell_type": "code",
   "execution_count": 10,
   "id": "315fa7dc",
   "metadata": {},
   "outputs": [
    {
     "name": "stdout",
     "output_type": "stream",
     "text": [
      "2 (3, 2)\n",
      "[11 22 33 44]\n",
      "[ -9 -18 -27 -36]\n",
      "[ 10  40  90 160]\n",
      "[10. 10. 10. 10.]\n",
      "[6 7 8 9]\n",
      "[2 4 6 8]\n",
      "[ 1  4  9 16]\n",
      "[1.         1.41421356 1.73205081 2.        ]\n",
      "[ 2.71828183  7.3890561  20.08553692 54.59815003]\n",
      "[0.         0.69314718 1.09861229 1.38629436]\n",
      "10\n",
      "50\n",
      "[20 30 40]\n",
      "[10 20 30]\n",
      "[10 30 50]\n",
      "1\n",
      "[4 5 6]\n",
      "[3 6 9]\n",
      "[[2 3]\n",
      " [5 6]]\n",
      "[False False  True  True  True]\n",
      "[15 20 25]\n",
      "[10 20]\n"
     ]
    }
   ],
   "source": [
    "import numpy as np\n",
    "\n",
    "arr1 = np.array([[1,2],\n",
    "                 [3,4],\n",
    "                 [5,6]])\n",
    "print(arr1.ndim, arr1.shape)\n",
    "\n",
    "a = np.array([1, 2, 3, 4])\n",
    "b = np.array([10, 20, 30, 40])\n",
    "\n",
    "print(a + b)   \n",
    "print(a - b)   \n",
    "print(a * b)   \n",
    "print(b / a) \n",
    "print(a + 5)   \n",
    "print(a * 2) \n",
    "print(a ** 2)\n",
    "print(np.sqrt(a))  \n",
    "print(np.exp(a))   \n",
    "print(np.log(a))\n",
    "\n",
    "arr = np.array([10, 20, 30, 40, 50])\n",
    "\n",
    "print(arr[0])\n",
    "print(arr[-1])     \n",
    "print(arr[1:4])\n",
    "print(arr[:3]) \n",
    "print(arr[::2])\n",
    "\n",
    "mat = np.array([[1, 2, 3],\n",
    "                [4, 5, 6],\n",
    "                [7, 8, 9]])\n",
    "\n",
    "print(mat[0, 0])   # 1 (row 0, col 0)\n",
    "print(mat[1, :])   # [4 5 6] (entire 2nd row)\n",
    "print(mat[:, 2])   # [3 6 9] (entire 3rd column)\n",
    "print(mat[:2, 1:])\n",
    "\n",
    "arr2 = np.array([5, 10, 15, 20, 25])\n",
    "\n",
    "print(arr2 > 10)         # [False False  True  True  True]\n",
    "print(arr2[arr2 > 10])    # [15 20 25]\n",
    "print(arr2[arr2 % 2 == 0])# [10 20] (even numbers)"
   ]
  }
 ],
 "metadata": {
  "kernelspec": {
   "display_name": "centurion_ml",
   "language": "python",
   "name": "python3"
  },
  "language_info": {
   "codemirror_mode": {
    "name": "ipython",
    "version": 3
   },
   "file_extension": ".py",
   "mimetype": "text/x-python",
   "name": "python",
   "nbconvert_exporter": "python",
   "pygments_lexer": "ipython3",
   "version": "3.10.18"
  }
 },
 "nbformat": 4,
 "nbformat_minor": 5
}
