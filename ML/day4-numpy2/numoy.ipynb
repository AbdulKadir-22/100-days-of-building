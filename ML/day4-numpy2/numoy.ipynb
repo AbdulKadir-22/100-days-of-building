{
 "cells": [
  {
   "cell_type": "code",
   "execution_count": 16,
   "id": "77595721",
   "metadata": {},
   "outputs": [
    {
     "name": "stdout",
     "output_type": "stream",
     "text": [
      "1\n",
      "(1, 3)\n",
      "(3, 1)\n",
      "[[ 4  8 12]\n",
      " [ 5 10 15]\n",
      " [ 3  6  9]]\n",
      "[[-2.   1. ]\n",
      " [ 1.5 -0.5]]\n"
     ]
    }
   ],
   "source": [
    "import numpy as np\n",
    "\n",
    "# code for calculating area of circle\n",
    "# radii = np.array([1,2,3,4])\n",
    "# print(np.pi * radii ** 2)\n",
    "\n",
    "arr1 = np.array([[1,2,3]])\n",
    "print(len(arr1))\n",
    "\n",
    "arr2 = np.array([[4],[5],[3]])\n",
    "print(arr1.shape)\n",
    "print(arr2.shape)\n",
    "\n",
    "print(arr1 * arr2)\n",
    "\n",
    "mat = np.array([[1,2],\n",
    "                [3,4]])\n",
    "\n",
    "print(np.linalg.inv(mat))\n"
   ]
  }
 ],
 "metadata": {
  "kernelspec": {
   "display_name": "base",
   "language": "python",
   "name": "python3"
  },
  "language_info": {
   "codemirror_mode": {
    "name": "ipython",
    "version": 3
   },
   "file_extension": ".py",
   "mimetype": "text/x-python",
   "name": "python",
   "nbconvert_exporter": "python",
   "pygments_lexer": "ipython3",
   "version": "3.13.5"
  }
 },
 "nbformat": 4,
 "nbformat_minor": 5
}
