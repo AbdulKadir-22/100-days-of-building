{
 "cells": [
  {
   "cell_type": "code",
   "execution_count": 98,
   "id": "08bfe336",
   "metadata": {},
   "outputs": [
    {
     "name": "stdout",
     "output_type": "stream",
     "text": [
      "[[9 6 2]\n",
      " [2 6 7]\n",
      " [6 7 7]]\n",
      "\n",
      "-0.650774281430895\n",
      "\n",
      "apple\n"
     ]
    }
   ],
   "source": [
    "import numpy as np\n",
    "\n",
    "rng = np.random.default_rng()\n",
    "\n",
    "print(rng.integers(low = 1,high = 10,size = (3,3)))\n",
    "print()\n",
    "\n",
    "print(np.random.uniform(low = -1, high = 1))\n",
    "\n",
    "fruits = np.array([\"apple\", \"Banana\", \"coconut\", \"pineapple\", \"papaya\"])\n",
    "fruit = rng.choice(fruits)\n",
    "print()\n",
    "\n",
    "print(fruit)"
   ]
  }
 ],
 "metadata": {
  "kernelspec": {
   "display_name": "centurion_ml",
   "language": "python",
   "name": "python3"
  },
  "language_info": {
   "codemirror_mode": {
    "name": "ipython",
    "version": 3
   },
   "file_extension": ".py",
   "mimetype": "text/x-python",
   "name": "python",
   "nbconvert_exporter": "python",
   "pygments_lexer": "ipython3",
   "version": "3.10.18"
  }
 },
 "nbformat": 4,
 "nbformat_minor": 5
}
