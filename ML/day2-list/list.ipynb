{
 "cells": [
  {
   "cell_type": "code",
   "execution_count": 2,
   "id": "a025dba1-86c1-423d-9de2-7883ab1f09d1",
   "metadata": {},
   "outputs": [
    {
     "name": "stdout",
     "output_type": "stream",
     "text": [
      "{'even': 5, 'odd': 5}\n"
     ]
    }
   ],
   "source": [
    "def count_even_odd(numbers):\n",
    "    \"\"\"\n",
    "    Takes a list of numbers and returns a dictionary\n",
    "    with the count of even and odd numbers.\n",
    "    \"\"\"\n",
    "    counts = {'even': 0, 'odd': 0}\n",
    "    for num in numbers:\n",
    "        if num % 2 == 0:\n",
    "            counts['even'] += 1\n",
    "        else:\n",
    "            counts['odd'] += 1\n",
    "    return counts\n",
    "\n",
    "# Test the function\n",
    "sample_numbers = [1, 2, 3, 4, 5, 6, 7, 8, 9, 10]\n",
    "result_dict = count_even_odd(sample_numbers)\n",
    "print(result_dict)"
   ]
  }
 ],
 "metadata": {
  "kernelspec": {
   "display_name": "base",
   "language": "python",
   "name": "python3"
  },
  "language_info": {
   "codemirror_mode": {
    "name": "ipython",
    "version": 3
   },
   "file_extension": ".py",
   "mimetype": "text/x-python",
   "name": "python",
   "nbconvert_exporter": "python",
   "pygments_lexer": "ipython3",
   "version": "3.13.5"
  }
 },
 "nbformat": 4,
 "nbformat_minor": 5
}
